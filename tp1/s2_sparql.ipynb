{
 "cells": [
  {
   "cell_type": "markdown",
   "metadata": {},
   "source": [
    "# Bases de connaissance : interroger Wikidata à l'aide de requêtes SPARQL"
   ]
  },
  {
   "cell_type": "markdown",
   "metadata": {},
   "source": [
    "## Imports"
   ]
  },
  {
   "cell_type": "code",
   "execution_count": 16,
   "metadata": {},
   "outputs": [],
   "source": [
    "from datetime import datetime as dt\n",
    "from SPARQLWrapper import SPARQLWrapper, JSON"
   ]
  },
  {
   "cell_type": "markdown",
   "metadata": {},
   "source": [
    "## Obtenir la liste des cyclistes belges ayant participé au Tour de France"
   ]
  },
  {
   "cell_type": "code",
   "execution_count": 25,
   "metadata": {},
   "outputs": [
    {
     "name": "stdout",
     "output_type": "stream",
     "text": [
      "\n",
      "28 Belgian sport cyclist found\n",
      "\n",
      "[{'item': {'type': 'uri', 'value': 'http://www.wikidata.org/entity/Q269362'}, 'itemLabel': {'type': 'literal', 'value': 'Q269362'}}, {'item': {'type': 'uri', 'value': 'http://www.wikidata.org/entity/Q327571'}, 'itemLabel': {'type': 'literal', 'value': 'Q327571'}}, {'item': {'type': 'uri', 'value': 'http://www.wikidata.org/entity/Q333311'}, 'itemLabel': {'type': 'literal', 'value': 'Q333311'}}, {'item': {'type': 'uri', 'value': 'http://www.wikidata.org/entity/Q381794'}, 'itemLabel': {'type': 'literal', 'value': 'Q381794'}}, {'item': {'type': 'uri', 'value': 'http://www.wikidata.org/entity/Q383731'}, 'itemLabel': {'type': 'literal', 'value': 'Q383731'}}, {'item': {'type': 'uri', 'value': 'http://www.wikidata.org/entity/Q386790'}, 'itemLabel': {'type': 'literal', 'value': 'Q386790'}}, {'item': {'type': 'uri', 'value': 'http://www.wikidata.org/entity/Q437445'}, 'itemLabel': {'type': 'literal', 'value': 'Q437445'}}, {'item': {'type': 'uri', 'value': 'http://www.wikidata.org/entity/Q455030'}, 'itemLabel': {'type': 'literal', 'value': 'Q455030'}}, {'item': {'type': 'uri', 'value': 'http://www.wikidata.org/entity/Q500086'}, 'itemLabel': {'type': 'literal', 'value': 'Q500086'}}, {'item': {'type': 'uri', 'value': 'http://www.wikidata.org/entity/Q608847'}, 'itemLabel': {'type': 'literal', 'value': 'Q608847'}}]\n"
     ]
    }
   ],
   "source": [
    "# Cette requête pourrait être utiliser afin de comparer si un journal parle plus de cycliste qu'un autre journal\n",
    "endpoint = \"https://query.wikidata.org/bigdata/namespace/wdq/sparql\"\n",
    "sparql = SPARQLWrapper(endpoint)\n",
    "\n",
    "statement = \"\"\"\n",
    "SELECT DISTINCT ?item ?itemLabel WHERE {\n",
    "  SERVICE wikibase:label { bd:serviceParam wikibase:language \"[AUTO_LANGUAGE]\". }\n",
    "  {\n",
    "    SELECT DISTINCT ?item WHERE {\n",
    "      ?item p:P106 ?statement0.\n",
    "      ?statement0 (ps:P106/(wdt:P279*)) wd:Q2309784.\n",
    "      ?item p:P27 ?statement1.\n",
    "      ?statement1 (ps:P27/(wdt:P279*)) wd:Q31.\n",
    "      ?item p:P1344 ?statement2.\n",
    "      ?statement2 (ps:P1344/(wdt:P279*)) wd:Q33881.\n",
    "      ?item p:P54 ?statement3.\n",
    "      ?statement3 (ps:P54/(wdt:P279*)) wd:Q3589568.\n",
    "    }\n",
    "    LIMIT 100\n",
    "  }\n",
    "}\n",
    "\"\"\"\n",
    "\n",
    "sparql.setQuery(statement)\n",
    "sparql.setReturnFormat(JSON)\n",
    "results = sparql.query().convert()\n",
    "\n",
    "rows = results['results']['bindings']\n",
    "print(f\"\\n{len(rows)} Belgian sport cyclist found\\n\")\n",
    "print(rows[:10])"
   ]
  }
 ],
 "metadata": {
  "kernelspec": {
   "display_name": "Python 3.9.5 ('tac_venv': venv)",
   "language": "python",
   "name": "python3"
  },
  "language_info": {
   "codemirror_mode": {
    "name": "ipython",
    "version": 3
   },
   "file_extension": ".py",
   "mimetype": "text/x-python",
   "name": "python",
   "nbconvert_exporter": "python",
   "pygments_lexer": "ipython3",
   "version": "3.9.5"
  },
  "vscode": {
   "interpreter": {
    "hash": "8c0c492aeedeccfd924494424708794640a39d1369b4614088c1dc4244793055"
   }
  }
 },
 "nbformat": 4,
 "nbformat_minor": 4
}
