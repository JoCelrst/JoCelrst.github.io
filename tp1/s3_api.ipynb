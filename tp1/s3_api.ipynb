{
 "cells": [
  {
   "cell_type": "markdown",
   "metadata": {},
   "source": [
    "# APIs: requêtes HTTP"
   ]
  },
  {
   "cell_type": "markdown",
   "metadata": {},
   "source": [
    "## Imports"
   ]
  },
  {
   "cell_type": "code",
   "execution_count": 13,
   "metadata": {},
   "outputs": [],
   "source": [
    "import json\n",
    "import requests"
   ]
  },
  {
   "cell_type": "markdown",
   "metadata": {},
   "source": [
    "## Convertir des devises (Franc belge (BEF) en Euro (EUR)) \n"
   ]
  },
  {
   "cell_type": "code",
   "execution_count": null,
   "metadata": {},
   "outputs": [],
   "source": [
    "#une API de conversion de devise serait intéressante afin de meiux comprendre les articles en francs belges ou ceux qui décrivent le cours de la Bourse. \n",
    "\n",
    "import requests\n",
    "\n",
    "url = \"https://currencyconverter.p.rapidapi.com/availablecurrencies\"\n",
    "\n",
    "headers = {\n",
    "\t\"X-RapidAPI-Key\": \"52d20181f5msh50df7486af192a8p161324jsnfe196dfa53e8\",\n",
    "\t\"X-RapidAPI-Host\": \"currencyconverter.p.rapidapi.com\"\n",
    "}\n",
    "\n",
    "response = requests.request(\"GET\", url, headers=headers)\n",
    "\n",
    "print(response.text)\n",
    "\n",
    "import requests\n",
    "\n",
    "url = \"https://currencyconverter.p.rapidapi.com/\"\n",
    "\n",
    "querystring = {\"to\":\"EUR\",\"from\":\"BEF\",\"from_amount\":\"1000\"}\n",
    "\n",
    "headers = {\n",
    "\t\"X-RapidAPI-Key\": \"52d20181f5msh50df7486af192a8p161324jsnfe196dfa53e8\",\n",
    "\t\"X-RapidAPI-Host\": \"currencyconverter.p.rapidapi.com\"\n",
    "}\n",
    "\n",
    "response = requests.request(\"GET\", url, headers=headers, params=querystring)\n",
    "\n",
    "print(response.text)"
   ]
  }
 ],
 "metadata": {
  "kernelspec": {
   "display_name": "Python 3.9.5 ('tac_venv': venv)",
   "language": "python",
   "name": "python3"
  },
  "language_info": {
   "codemirror_mode": {
    "name": "ipython",
    "version": 3
   },
   "file_extension": ".py",
   "mimetype": "text/x-python",
   "name": "python",
   "nbconvert_exporter": "python",
   "pygments_lexer": "ipython3",
   "version": "3.9.5"
  },
  "vscode": {
   "interpreter": {
    "hash": "8c0c492aeedeccfd924494424708794640a39d1369b4614088c1dc4244793055"
   }
  }
 },
 "nbformat": 4,
 "nbformat_minor": 4
}
