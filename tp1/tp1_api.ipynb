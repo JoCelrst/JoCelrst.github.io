{
 "cells": [
  {
   "cell_type": "markdown",
   "metadata": {},
   "source": [
    "# TP1 APIs: requêtes HTTP "
   ]
  },
  {
   "cell_type": "markdown",
   "metadata": {},
   "source": [
    "## Imports"
   ]
  },
  {
   "cell_type": "code",
   "execution_count": 7,
   "metadata": {},
   "outputs": [],
   "source": [
    "import json\n",
    "import requests"
   ]
  },
  {
   "cell_type": "markdown",
   "metadata": {},
   "source": [
    "## Déterminer la date d'entrée en fonction des bourgmestres de la ville de Bruxelles"
   ]
  },
  {
   "cell_type": "markdown",
   "metadata": {},
   "source": [
    "OPEN DATA  ville de Bruxelles : API qui regroupe des informations sur 27 bourgmestres (non exhaustif) qui ont siégé à la commune de la ville de Bruxelles. Dans l'utilisation des bulletins, cette API permet notamment de connaître le noms de différents bourgmestres, leur date d'entrée en fonction, leur date de naissance et de décès, etc. \n",
    "\n",
    "API : Bourgmestres \n",
    "https://opendata.bruxelles.be/explore/dataset/bxl_bourgmestres/information/?lang=fr&sort=&q=&rows=33&dataChart=eyJ0aW1lc2NhbGUiOiJ5ZWFyIiwicXVlcmllcyI6W3sieEF4aXMiOiJkZWNlZGUiLCJzb3J0IjoiIiwibWF4cG9pbnRzIjoiIiwiY2hhcnRzIjpbeyJ5QXhpcyI6IiIsImZ1bmMiOiJDT1VOVCIsImNvbG9yIjoiIzJmN2VkOCIsInR5cGUiOiJsaW5lIiwic2NpZW50aWZpY0Rpc3BsYXkiOnRydWV9XSwidGltZXNjYWxlIjoieWVhciIsImNvbmZpZyI6eyJkYXRhc2V0IjoiYnhsX2JvdXJnbWVzdHJlcyIsIm9wdGlvbnMiOnsibGFuZyI6ImZyIiwic29ydCI6IiJ9fX1dLCJkaXNwbGF5TGVnZW5kIjp0cnVlLCJhbGlnbk1vbnRoIjp0cnVlfQ%3D%3D"
   ]
  },
  {
   "cell_type": "code",
   "execution_count": 52,
   "metadata": {},
   "outputs": [
    {
     "name": "stdout",
     "output_type": "stream",
     "text": [
      "Michel Demaret\n",
      " --> 1992-12-07\n",
      "Marion Lemesre\n",
      " --> 2000-10-18\n",
      "Charles Lemonnier\n",
      " --> 1914-09-27\n",
      "Baron Joseph \n",
      "Van de Meulebroeck\n",
      " --> 1939-11-06\n",
      "Nicolas Verhulst - Van Hoegaarden\n",
      " --> 1841-04-14\n",
      "André Fontainas\n",
      " --> 1860-04-20\n",
      "Guillaume Van Volxem\n",
      " --> 1838-09-13\n",
      "Félix Vanderstraeten\n",
      " --> 1879-05-20\n",
      "François De Munck\n",
      " --> 1838-08-03\n",
      "Charles Buls\n",
      " --> 1880-12-17\n",
      "Jules Anspach\n",
      " --> 1863-07-28\n",
      "Baron François Steens\n",
      " --> 1917-05-14\n",
      "Jan Grauls\n",
      " --> 1942-09-28\n",
      "Jules Coelst\n",
      " --> 1941-07-01\n"
     ]
    }
   ],
   "source": [
    "url = 'https://opendata.bruxelles.be/api/records/1.0/search/?dataset=bxl_bourgmestres&q=&lang=fr&rows=30'\n",
    "\n",
    "response = requests.request(\"GET\", url)\n",
    "\n",
    "#recherche dans un des différents champs proposés \"fields\", ici: montrer résultat nom du \n",
    "#Bourgmestre et date d'entrée en fonction\n",
    "# Note ! certains fields ne sont pas remplies, la recherche va donc montrer le nom des Bourgmestres \n",
    "#qui ont une valeur dans le fields \"date_d_entree_en_fonction_de_bourgmestre_ou_de_1er_echevin_ff\"\n",
    "myJson = json.loads(response.text)\n",
    "for record in myJson['records'] :\n",
    "    fields = record['fields']    \n",
    "\n",
    "    if 'date_d_entree_en_fonction_de_bourgmestre_ou_de_1er_echevin_ff'  in fields :\n",
    "        print(fields['bourgmestres'])\n",
    "        print(\" --> \"+fields['date_d_entree_en_fonction_de_bourgmestre_ou_de_1er_echevin_ff'])\n",
    "\n",
    "    \n"
   ]
  }
 ],
 "metadata": {
  "kernelspec": {
   "display_name": "Python 3 (ipykernel)",
   "language": "python",
   "name": "python3"
  },
  "language_info": {
   "codemirror_mode": {
    "name": "ipython",
    "version": 3
   },
   "file_extension": ".py",
   "mimetype": "text/x-python",
   "name": "python",
   "nbconvert_exporter": "python",
   "pygments_lexer": "ipython3",
   "version": "3.9.7"
  }
 },
 "nbformat": 4,
 "nbformat_minor": 4
}
