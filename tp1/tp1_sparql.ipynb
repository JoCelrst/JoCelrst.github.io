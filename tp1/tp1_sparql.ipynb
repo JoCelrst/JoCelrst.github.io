{
 "cells": [
  {
   "cell_type": "markdown",
   "metadata": {},
   "source": [
    "# TP1 : SPARQL exercice 6."
   ]
  },
  {
   "cell_type": "markdown",
   "metadata": {},
   "source": [
    "## Imports"
   ]
  },
  {
   "cell_type": "code",
   "execution_count": 19,
   "metadata": {},
   "outputs": [],
   "source": [
    "from datetime import datetime as dt\n",
    "from SPARQLWrapper import SPARQLWrapper, JSON"
   ]
  },
  {
   "cell_type": "markdown",
   "metadata": {},
   "source": [
    "## Obtenir la liste des biens patrimoniaux de Laeken"
   ]
  },
  {
   "cell_type": "code",
   "execution_count": 28,
   "metadata": {},
   "outputs": [
    {
     "name": "stdout",
     "output_type": "stream",
     "text": [
      "\n",
      "31 sites ou biens patrimoniaux found\n",
      "\n",
      "[{'Bruxelles': {'type': 'uri', 'value': 'http://www.wikidata.org/entity/Q2915963'}, 'coordonn_es_g_ographiques': {'datatype': 'http://www.opengis.net/ont/geosparql#wktLiteral', 'type': 'literal', 'value': 'Point(4.346388888 50.892222222)'}, 'BruxellesLabel': {'xml:lang': 'en', 'type': 'literal', 'value': 'Philips Pavilion'}}, {'Bruxelles': {'type': 'uri', 'value': 'http://www.wikidata.org/entity/Q3397231'}, 'coordonn_es_g_ographiques': {'datatype': 'http://www.opengis.net/ont/geosparql#wktLiteral', 'type': 'literal', 'value': 'Point(4.342547222 50.869558333)'}, 'BruxellesLabel': {'xml:lang': 'en', 'type': 'literal', 'value': 'Pont du Jubilé - Jubelfeestbrug'}, 'liste_de_biens_patrimoniaux': {'type': 'uri', 'value': 'http://www.wikidata.org/entity/Q19346745'}, 'liste_de_biens_patrimoniauxLabel': {'xml:lang': 'en', 'type': 'literal', 'value': 'protected heritage site in Brussels'}}, {'Bruxelles': {'type': 'uri', 'value': 'http://www.wikidata.org/entity/Q16638569'}, 'coordonn_es_g_ographiques': {'datatype': 'http://www.opengis.net/ont/geosparql#wktLiteral', 'type': 'literal', 'value': 'Point(4.34683 50.86689)'}, 'BruxellesLabel': {'xml:lang': 'en', 'type': 'literal', 'value': 'Gare Maritime'}}, {'Bruxelles': {'type': 'uri', 'value': 'http://www.wikidata.org/entity/Q20011659'}, 'BruxellesLabel': {'xml:lang': 'en', 'type': 'literal', 'value': 'Brussel Brost'}}, {'Bruxelles': {'type': 'uri', 'value': 'http://www.wikidata.org/entity/Q23806700'}, 'coordonn_es_g_ographiques': {'datatype': 'http://www.opengis.net/ont/geosparql#wktLiteral', 'type': 'literal', 'value': 'Point(4.340833 50.881944)'}, 'BruxellesLabel': {'xml:lang': 'en', 'type': 'literal', 'value': 'Heilige Engelenkerk'}}, {'Bruxelles': {'type': 'uri', 'value': 'http://www.wikidata.org/entity/Q23806700'}, 'coordonn_es_g_ographiques': {'datatype': 'http://www.opengis.net/ont/geosparql#wktLiteral', 'type': 'literal', 'value': 'Point(4.4055 50.8817)'}, 'BruxellesLabel': {'xml:lang': 'en', 'type': 'literal', 'value': 'Heilige Engelenkerk'}}, {'Bruxelles': {'type': 'uri', 'value': 'http://www.wikidata.org/entity/Q48683433'}, 'coordonn_es_g_ographiques': {'datatype': 'http://www.opengis.net/ont/geosparql#wktLiteral', 'type': 'literal', 'value': 'Point(4.349083 50.866311)'}, 'BruxellesLabel': {'xml:lang': 'en', 'type': 'literal', 'value': 'building Brussels Environnement'}}, {'Bruxelles': {'type': 'uri', 'value': 'http://www.wikidata.org/entity/Q104552817'}, 'BruxellesLabel': {'xml:lang': 'en', 'type': 'literal', 'value': 'FC Windsor Heysel'}}, {'Bruxelles': {'type': 'uri', 'value': 'http://www.wikidata.org/entity/Q105302707'}, 'BruxellesLabel': {'type': 'literal', 'value': 'Q105302707'}}, {'Bruxelles': {'type': 'uri', 'value': 'http://www.wikidata.org/entity/Q107261304'}, 'coordonn_es_g_ographiques': {'datatype': 'http://www.opengis.net/ont/geosparql#wktLiteral', 'type': 'literal', 'value': 'Point(4.3439 50.8736)'}, 'BruxellesLabel': {'xml:lang': 'en', 'type': 'literal', 'value': 'Parc Pannenhuis - Pannenhuispark'}}, {'Bruxelles': {'type': 'uri', 'value': 'http://www.wikidata.org/entity/Q107287469'}, 'coordonn_es_g_ographiques': {'datatype': 'http://www.opengis.net/ont/geosparql#wktLiteral', 'type': 'literal', 'value': 'Point(4.34548 50.86473)'}, 'BruxellesLabel': {'xml:lang': 'en', 'type': 'literal', 'value': 'Voie 1 - Spoor 1'}}, {'Bruxelles': {'type': 'uri', 'value': 'http://www.wikidata.org/entity/Q107287521'}, 'coordonn_es_g_ographiques': {'datatype': 'http://www.opengis.net/ont/geosparql#wktLiteral', 'type': 'literal', 'value': 'Point(4.34494 50.86493)'}, 'BruxellesLabel': {'xml:lang': 'en', 'type': 'literal', 'value': 'Voie 2 - Spoor 2'}}, {'Bruxelles': {'type': 'uri', 'value': 'http://www.wikidata.org/entity/Q107287569'}, 'coordonn_es_g_ographiques': {'datatype': 'http://www.opengis.net/ont/geosparql#wktLiteral', 'type': 'literal', 'value': 'Point(4.34568 50.86449)'}, 'BruxellesLabel': {'xml:lang': 'en', 'type': 'literal', 'value': 'Passage du Stoemp - Stoempgang'}}, {'Bruxelles': {'type': 'uri', 'value': 'http://www.wikidata.org/entity/Q107287592'}, 'coordonn_es_g_ographiques': {'datatype': 'http://www.opengis.net/ont/geosparql#wktLiteral', 'type': 'literal', 'value': 'Point(4.34599 50.86487)'}, 'BruxellesLabel': {'xml:lang': 'en', 'type': 'literal', 'value': 'Passage de la Kriek - Kriekgang'}}, {'Bruxelles': {'type': 'uri', 'value': 'http://www.wikidata.org/entity/Q107287623'}, 'coordonn_es_g_ographiques': {'datatype': 'http://www.opengis.net/ont/geosparql#wktLiteral', 'type': 'literal', 'value': 'Point(4.34632 50.86525)'}, 'BruxellesLabel': {'xml:lang': 'en', 'type': 'literal', 'value': 'Passage de la Frite - Frietgang'}}, {'Bruxelles': {'type': 'uri', 'value': 'http://www.wikidata.org/entity/Q107287650'}, 'coordonn_es_g_ographiques': {'datatype': 'http://www.opengis.net/ont/geosparql#wktLiteral', 'type': 'literal', 'value': 'Point(4.34662 50.86564)'}, 'BruxellesLabel': {'xml:lang': 'en', 'type': 'literal', 'value': 'Passage de la Caricole - Caricolegang'}}, {'Bruxelles': {'type': 'uri', 'value': 'http://www.wikidata.org/entity/Q107287674'}, 'coordonn_es_g_ographiques': {'datatype': 'http://www.opengis.net/ont/geosparql#wktLiteral', 'type': 'literal', 'value': 'Point(4.34628 50.86621)'}, 'BruxellesLabel': {'xml:lang': 'en', 'type': 'literal', 'value': \"Ceci n'est pas une rue\"}}, {'Bruxelles': {'type': 'uri', 'value': 'http://www.wikidata.org/entity/Q107287732'}, 'coordonn_es_g_ographiques': {'datatype': 'http://www.opengis.net/ont/geosparql#wktLiteral', 'type': 'literal', 'value': 'Point(4.34543 50.86603)'}, 'BruxellesLabel': {'xml:lang': 'en', 'type': 'literal', 'value': 'Passage du Speculoos - Speculoosgang'}}, {'Bruxelles': {'type': 'uri', 'value': 'http://www.wikidata.org/entity/Q107287758'}, 'coordonn_es_g_ographiques': {'datatype': 'http://www.opengis.net/ont/geosparql#wktLiteral', 'type': 'literal', 'value': 'Point(4.3451 50.86564)'}, 'BruxellesLabel': {'xml:lang': 'en', 'type': 'literal', 'value': 'Passage de la Praline - Pralinegang'}}, {'Bruxelles': {'type': 'uri', 'value': 'http://www.wikidata.org/entity/Q107287789'}, 'coordonn_es_g_ographiques': {'datatype': 'http://www.opengis.net/ont/geosparql#wktLiteral', 'type': 'literal', 'value': 'Point(4.34479 50.86525)'}, 'BruxellesLabel': {'xml:lang': 'en', 'type': 'literal', 'value': 'Passage du Cuberdon - Cuberdongang'}}, {'Bruxelles': {'type': 'uri', 'value': 'http://www.wikidata.org/entity/Q107287863'}, 'coordonn_es_g_ographiques': {'datatype': 'http://www.opengis.net/ont/geosparql#wktLiteral', 'type': 'literal', 'value': 'Point(4.34449 50.86486)'}, 'BruxellesLabel': {'xml:lang': 'en', 'type': 'literal', 'value': 'Passage du Chicon - Chicongang'}}, {'Bruxelles': {'type': 'uri', 'value': 'http://www.wikidata.org/entity/Q107288095'}, 'coordonn_es_g_ographiques': {'datatype': 'http://www.opengis.net/ont/geosparql#wktLiteral', 'type': 'literal', 'value': 'Point(4.34378 50.86562)'}, 'BruxellesLabel': {'xml:lang': 'en', 'type': 'literal', 'value': 'Drève du Parc - Parkdreef'}}, {'Bruxelles': {'type': 'uri', 'value': 'http://www.wikidata.org/entity/Q107290782'}, 'coordonn_es_g_ographiques': {'datatype': 'http://www.opengis.net/ont/geosparql#wktLiteral', 'type': 'literal', 'value': 'Point(4.34574 50.86386)'}, 'BruxellesLabel': {'xml:lang': 'en', 'type': 'literal', 'value': 'Maison de la Poste'}}, {'Bruxelles': {'type': 'uri', 'value': 'http://www.wikidata.org/entity/Q107576354'}, 'BruxellesLabel': {'xml:lang': 'en', 'type': 'literal', 'value': 'Leopold I'}}, {'Bruxelles': {'type': 'uri', 'value': 'http://www.wikidata.org/entity/Q108052332'}, 'coordonn_es_g_ographiques': {'datatype': 'http://www.opengis.net/ont/geosparql#wktLiteral', 'type': 'literal', 'value': 'Point(4.36105 50.87529)'}, 'BruxellesLabel': {'xml:lang': 'en', 'type': 'literal', 'value': 'La Halte - De Halte'}}, {'Bruxelles': {'type': 'uri', 'value': 'http://www.wikidata.org/entity/Q108053098'}, 'coordonn_es_g_ographiques': {'datatype': 'http://www.opengis.net/ont/geosparql#wktLiteral', 'type': 'literal', 'value': 'Point(4.34643 50.87996)'}, 'BruxellesLabel': {'xml:lang': 'en', 'type': 'literal', 'value': 'La Terrasse - Het Terras'}}, {'Bruxelles': {'type': 'uri', 'value': 'http://www.wikidata.org/entity/Q108053429'}, 'coordonn_es_g_ographiques': {'datatype': 'http://www.opengis.net/ont/geosparql#wktLiteral', 'type': 'literal', 'value': 'Point(4.34659 50.87583)'}, 'BruxellesLabel': {'xml:lang': 'en', 'type': 'literal', 'value': 'Pocket Park Tielemans'}}, {'Bruxelles': {'type': 'uri', 'value': 'http://www.wikidata.org/entity/Q108053910'}, 'coordonn_es_g_ographiques': {'datatype': 'http://www.opengis.net/ont/geosparql#wktLiteral', 'type': 'literal', 'value': 'Point(4.34537 50.87561)'}, 'BruxellesLabel': {'xml:lang': 'en', 'type': 'literal', 'value': 'Pocket Park Laneau'}}, {'Bruxelles': {'type': 'uri', 'value': 'http://www.wikidata.org/entity/Q108054061'}, 'coordonn_es_g_ographiques': {'datatype': 'http://www.opengis.net/ont/geosparql#wktLiteral', 'type': 'literal', 'value': 'Point(4.34346 50.86787)'}, 'BruxellesLabel': {'xml:lang': 'en', 'type': 'literal', 'value': 'Piste finlandaise - Finse piste'}}, {'Bruxelles': {'type': 'uri', 'value': 'http://www.wikidata.org/entity/Q108054607'}, 'coordonn_es_g_ographiques': {'datatype': 'http://www.opengis.net/ont/geosparql#wktLiteral', 'type': 'literal', 'value': 'Point(4.3433 50.8675)'}, 'BruxellesLabel': {'xml:lang': 'en', 'type': 'literal', 'value': 'Square du Laekenveld - Laekenveldsquare'}}, {'Bruxelles': {'type': 'uri', 'value': 'http://www.wikidata.org/entity/Q108057727'}, 'BruxellesLabel': {'xml:lang': 'en', 'type': 'literal', 'value': 'Line 28/1'}}]\n"
     ]
    }
   ],
   "source": [
    "# Retrieve results from SPARQL\n",
    "endpoint = \"https://query.wikidata.org/bigdata/namespace/wdq/sparql\"\n",
    "sparql = SPARQLWrapper(endpoint)\n",
    "\n",
    "# (P131) Localisation administrative = unité administrative où se situe/situait l'élément.\n",
    "# (Q730506) Laeken = section de Bruxelles, Belgique\n",
    "# (P1435)statut patrimonial = reconnaissance légale de l'apport de l'élément au patrimoine (site classé, monument historique)\n",
    "# (P625)coordonnées géographiques = coordonnées géographiques de l'objet\n",
    "statement = \"\"\"\n",
    "SELECT ?Bruxelles ?BruxellesLabel ?liste_de_biens_patrimoniaux ?liste_de_biens_patrimoniauxLabel ?coordonn_es_g_ographiques WHERE {\n",
    "  SERVICE wikibase:label { bd:serviceParam wikibase:language \"[AUTO_LANGUAGE],en\". }\n",
    "  ?Bruxelles wdt:P131 wd:Q730506.\n",
    "  OPTIONAL { ?Bruxelles wdt:P1435 ?liste_de_biens_patrimoniaux. }\n",
    "  OPTIONAL { ?Bruxelles wdt:P625 ?coordonn_es_g_ographiques. }\n",
    "}\n",
    "\"\"\"\n",
    "\n",
    "sparql.setQuery(statement)\n",
    "sparql.setReturnFormat(JSON)\n",
    "results = sparql.query().convert()\n",
    "\n",
    "rows = results['results']['bindings']\n",
    "print(f\"\\n{len(rows)} sites ou biens patrimoniaux found\\n\")\n",
    "print(rows[:100])"
   ]
  }
 ],
 "metadata": {
  "kernelspec": {
   "display_name": "Python 3 (ipykernel)",
   "language": "python",
   "name": "python3"
  },
  "language_info": {
   "codemirror_mode": {
    "name": "ipython",
    "version": 3
   },
   "file_extension": ".py",
   "mimetype": "text/x-python",
   "name": "python",
   "nbconvert_exporter": "python",
   "pygments_lexer": "ipython3",
   "version": "3.9.7"
  }
 },
 "nbformat": 4,
 "nbformat_minor": 4
}
